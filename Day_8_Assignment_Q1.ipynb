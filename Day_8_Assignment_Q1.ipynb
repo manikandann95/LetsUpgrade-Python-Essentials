{
  "nbformat": 4,
  "nbformat_minor": 0,
  "metadata": {
    "colab": {
      "name": "Day 8 Assignment Q1.ipynb",
      "provenance": [],
      "collapsed_sections": [],
      "include_colab_link": true
    },
    "kernelspec": {
      "name": "python3",
      "display_name": "Python 3"
    }
  },
  "cells": [
    {
      "cell_type": "markdown",
      "metadata": {
        "id": "view-in-github",
        "colab_type": "text"
      },
      "source": [
        "<a href=\"https://colab.research.google.com/github/manikandann95/LetsUpgrade-Python-Essentials/blob/master/Day_8_Assignment_Q1.ipynb\" target=\"_parent\"><img src=\"https://colab.research.google.com/assets/colab-badge.svg\" alt=\"Open In Colab\"/></a>"
      ]
    },
    {
      "cell_type": "code",
      "metadata": {
        "id": "wucEUsjfYXoA",
        "colab_type": "code",
        "colab": {
          "base_uri": "https://localhost:8080/",
          "height": 340
        },
        "outputId": "c4325240-b511-423d-ea5d-44241471e7fc"
      },
      "source": [
        "# DAY 8 ASSIGNMENT : MANIKANDAN.N\n",
        "#1. Decorator for input \n",
        "def getInput(calculate_argsfun):\n",
        "    def wrap_fn():\n",
        "        A = int(input(\"Start: \"))\n",
        "        B = int(input(\"End: \"))\n",
        "        calculate_argsfun(A,B) \n",
        "    return wrap_fn\n",
        "\n",
        "@getInput \n",
        "def fibonacci(A,B):\n",
        "  nterms = 100\n",
        "  def recursion_fibo(n):\n",
        "   if n <= 1:\n",
        "       return n\n",
        "   else:\n",
        "       return(recursion_fibo(n-1) + recursion_fibo(n-2))\n",
        "       \n",
        "  if nterms <= 0:\n",
        "   print(\"Plese enter a positive integer\")\n",
        "  else:\n",
        "   print(\"Fibonacci sequence values between \", A, \" and \", B)\n",
        "   for i in range(nterms):\n",
        "     if recursion_fibo(i) >= A and recursion_fibo(i) <= B: \n",
        "       print(recursion_fibo(i))\n",
        "fibonacci() "
      ],
      "execution_count": null,
      "outputs": [
        {
          "output_type": "stream",
          "text": [
            "Start: 1\n",
            "End: 1000\n",
            "Fibonacci sequence values between  1  and  1000\n",
            "1\n",
            "1\n",
            "2\n",
            "3\n",
            "5\n",
            "8\n",
            "13\n",
            "21\n",
            "34\n",
            "55\n",
            "89\n",
            "144\n",
            "233\n",
            "377\n",
            "610\n",
            "987\n"
          ],
          "name": "stdout"
        }
      ]
    },
    {
      "cell_type": "code",
      "metadata": {
        "id": "fpRV6uB-_C-0",
        "colab_type": "code",
        "colab": {}
      },
      "source": [
        ""
      ],
      "execution_count": null,
      "outputs": []
    }
  ]
}