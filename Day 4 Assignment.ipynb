{
  "nbformat": 4,
  "nbformat_minor": 0,
  "metadata": {
    "colab": {
      "name": "Untitled0.ipynb",
      "provenance": [],
      "collapsed_sections": [],
      "authorship_tag": "ABX9TyPjqa1u0Z8ThlSgfY1TGXS8",
      "include_colab_link": true
    },
    "kernelspec": {
      "name": "python3",
      "display_name": "Python 3"
    }
  },
  "cells": [
    {
      "cell_type": "markdown",
      "metadata": {
        "id": "view-in-github",
        "colab_type": "text"
      },
      "source": [
        "<a href=\"https://colab.research.google.com/github/manikandann95/LetsUpgrade-Python-Essentials/blob/master/Day%204%20Assignment.ipynb\" target=\"_parent\"><img src=\"https://colab.research.google.com/assets/colab-badge.svg\" alt=\"Open In Colab\"/></a>"
      ]
    },
    {
      "cell_type": "code",
      "metadata": {
        "id": "NKHbSMRv_2Px",
        "colab_type": "code",
        "colab": {
          "base_uri": "https://localhost:8080/",
          "height": 34
        },
        "outputId": "db7c387b-33a0-481d-ab34-4881c087cf30"
      },
      "source": [
        "# Day 4 Assignment\n",
        "# Program to check first Armstrong number in a certain interval and exit loop\n",
        "\n",
        "start = 1042000\n",
        "end = 702648265\n",
        "\n",
        "for i in range(start, end + 1): \n",
        "   order = len(str(i)) \n",
        "   sum = 0 \n",
        "   temp = i\n",
        "   while temp > 0:\n",
        "       dig = temp % 10\n",
        "       sum += dig ** order\n",
        "       temp //= 10 \n",
        "   if i == sum:\n",
        "       print(i)\n",
        "       break\n"
      ],
      "execution_count": 4,
      "outputs": [
        {
          "output_type": "stream",
          "text": [
            "1741725\n"
          ],
          "name": "stdout"
        }
      ]
    }
  ]
}