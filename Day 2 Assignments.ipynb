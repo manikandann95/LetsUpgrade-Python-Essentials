{
  "nbformat": 4,
  "nbformat_minor": 0,
  "metadata": {
    "colab": {
      "name": "Copy of Untitled0.ipynb",
      "provenance": [],
      "collapsed_sections": [],
      "authorship_tag": "ABX9TyO4jIhRpfKtUSSKipCx7SZy",
      "include_colab_link": true
    },
    "kernelspec": {
      "name": "python3",
      "display_name": "Python 3"
    }
  },
  "cells": [
    {
      "cell_type": "markdown",
      "metadata": {
        "id": "view-in-github",
        "colab_type": "text"
      },
      "source": [
        "<a href=\"https://colab.research.google.com/github/manikandann95/LetsUpgrade-Python-Essentials/blob/master/Day%202%20Assignments.ipynb\" target=\"_parent\"><img src=\"https://colab.research.google.com/assets/colab-badge.svg\" alt=\"Open In Colab\"/></a>"
      ]
    },
    {
      "cell_type": "code",
      "metadata": {
        "id": "NKHbSMRv_2Px",
        "colab_type": "code",
        "colab": {
          "base_uri": "https://localhost:8080/",
          "height": 833
        },
        "outputId": "f08568e2-bc87-49a9-a07d-6a6da2092337"
      },
      "source": [
        "# Day 3 Assignment : MANIKANDAN.N\n",
        "# 1.  Pilot question\n",
        "altitude = input(\"Enter Altitude: \")\n",
        "alt = int(altitude) \n",
        "if alt <= 1000:\n",
        "  print(\"Safe to Land\")\n",
        "elif alt < 5000:\n",
        "  print(\"Bring down to 1000ft\")   \n",
        "else:\n",
        "  print(\"Turn Around, Try again later\")\n",
        "\n",
        "# 2. Prime numbers in range 1 : 200\n",
        "start = 1\n",
        "end = 200\n",
        "print(\"Prime numbers in range of 1 to 200: \")  \n",
        "for i in range(start,end+1): \n",
        "  if i > 1:\n",
        "    for j in range(2,i): \n",
        "        if(i % j==0): \n",
        "            break\n",
        "    else: \n",
        "        print(i)"
      ],
      "execution_count": null,
      "outputs": [
        {
          "output_type": "stream",
          "text": [
            "Enter Altitude: 600\n",
            "Safe to Land\n",
            "2\n",
            "3\n",
            "5\n",
            "7\n",
            "11\n",
            "13\n",
            "17\n",
            "19\n",
            "23\n",
            "29\n",
            "31\n",
            "37\n",
            "41\n",
            "43\n",
            "47\n",
            "53\n",
            "59\n",
            "61\n",
            "67\n",
            "71\n",
            "73\n",
            "79\n",
            "83\n",
            "89\n",
            "97\n",
            "101\n",
            "103\n",
            "107\n",
            "109\n",
            "113\n",
            "127\n",
            "131\n",
            "137\n",
            "139\n",
            "149\n",
            "151\n",
            "157\n",
            "163\n",
            "167\n",
            "173\n",
            "179\n",
            "181\n",
            "191\n",
            "193\n",
            "197\n",
            "199\n"
          ],
          "name": "stdout"
        }
      ]
    }
  ]
}