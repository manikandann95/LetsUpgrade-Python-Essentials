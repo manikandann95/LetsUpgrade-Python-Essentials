{
  "nbformat": 4,
  "nbformat_minor": 0,
  "metadata": {
    "colab": {
      "name": "Day 6 Assignment Q2.ipynb",
      "provenance": [],
      "collapsed_sections": [],
      "authorship_tag": "ABX9TyM6dihOF0gkAnNUv/hCd7RA",
      "include_colab_link": true
    },
    "kernelspec": {
      "name": "python3",
      "display_name": "Python 3"
    }
  },
  "cells": [
    {
      "cell_type": "markdown",
      "metadata": {
        "id": "view-in-github",
        "colab_type": "text"
      },
      "source": [
        "<a href=\"https://colab.research.google.com/github/manikandann95/LetsUpgrade-Python-Essentials/blob/master/Day_6_Assignment_Q2.ipynb\" target=\"_parent\"><img src=\"https://colab.research.google.com/assets/colab-badge.svg\" alt=\"Open In Colab\"/></a>"
      ]
    },
    {
      "cell_type": "code",
      "metadata": {
        "id": "fJZXSy2n2XfS",
        "colab_type": "code",
        "colab": {
          "base_uri": "https://localhost:8080/",
          "height": 85
        },
        "outputId": "2336d52e-8856-4143-c05f-8f05e423cbeb"
      },
      "source": [
        "import math\n",
        "class cone:\n",
        "    def __init__(self,r,h):\n",
        "        self.r=r\n",
        "        self.h=h\n",
        "    def volume(self):\n",
        "        result = (self.h / 3) * math.pi * (self.r)**2\n",
        "        print(\"Volume Of Cone is :\",round(result,2))\n",
        "    def surfacearea(self):\n",
        "        result = math.pi * self.r *(self.r + math.sqrt(self.h **2 + self.r **2))\n",
        "        print(\"Surface Area Of Cone is :\",round(result,2))\n",
        " \n",
        "rad = float(input(\"Radius of cone : \"))\n",
        "height = float(input(\"Height of cone : \"))\n",
        "obj = cone(rad,height)\n",
        "obj.volume() \n",
        "obj.surfacearea()"
      ],
      "execution_count": 9,
      "outputs": [
        {
          "output_type": "stream",
          "text": [
            "Radius of cone : 3\n",
            "Height of cone : 5\n",
            "Volume Of Cone is : 47.12\n",
            "Surface Area Of Cone is : 83.23\n"
          ],
          "name": "stdout"
        }
      ]
    },
    {
      "cell_type": "code",
      "metadata": {
        "id": "raFrhD7q32Jc",
        "colab_type": "code",
        "colab": {}
      },
      "source": [
        ""
      ],
      "execution_count": null,
      "outputs": []
    }
  ]
}