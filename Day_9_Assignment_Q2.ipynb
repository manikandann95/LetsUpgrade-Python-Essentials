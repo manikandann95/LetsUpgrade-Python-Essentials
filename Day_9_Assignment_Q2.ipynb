{
  "nbformat": 4,
  "nbformat_minor": 0,
  "metadata": {
    "colab": {
      "name": "Day 9 Assignment Q2.ipynb",
      "provenance": [],
      "collapsed_sections": [],
      "authorship_tag": "ABX9TyMzeKFIvihT33XpO3H32b60",
      "include_colab_link": true
    },
    "kernelspec": {
      "name": "python3",
      "display_name": "Python 3"
    }
  },
  "cells": [
    {
      "cell_type": "markdown",
      "metadata": {
        "id": "view-in-github",
        "colab_type": "text"
      },
      "source": [
        "<a href=\"https://colab.research.google.com/github/manikandann95/LetsUpgrade-Python-Essentials/blob/master/Day_9_Assignment_Q2.ipynb\" target=\"_parent\"><img src=\"https://colab.research.google.com/assets/colab-badge.svg\" alt=\"Open In Colab\"/></a>"
      ]
    },
    {
      "cell_type": "code",
      "metadata": {
        "id": "U9wTxSMEVtxP",
        "colab_type": "code",
        "colab": {
          "base_uri": "https://localhost:8080/",
          "height": 85
        },
        "outputId": "2215c6d9-e6f3-4c3e-b9ca-49a833f00827"
      },
      "source": [
        "# Day 9 Assignment Q2 : MANIKANDAN.N\n",
        "#2. Generator function to armstrong numbers\n",
        "def genFunc(): \n",
        "  start = 1 \n",
        "  end = 1000\n",
        "  \n",
        "  for i in range(start, end + 1): \n",
        "    if i >= 10:\n",
        "      order = len(str(i)) \n",
        "      sum = 0 \n",
        "      temp = i\n",
        "      while temp > 0:\n",
        "        dig = temp % 10\n",
        "        sum += dig ** order\n",
        "        temp //= 10 \n",
        "      if i == sum:\n",
        "        yield i\n",
        "      \n",
        "for x in genFunc():\n",
        "  print(x)"
      ],
      "execution_count": 4,
      "outputs": [
        {
          "output_type": "stream",
          "text": [
            "153\n",
            "370\n",
            "371\n",
            "407\n"
          ],
          "name": "stdout"
        }
      ]
    }
  ]
}