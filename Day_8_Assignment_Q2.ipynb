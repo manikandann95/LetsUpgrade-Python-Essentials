{
  "nbformat": 4,
  "nbformat_minor": 0,
  "metadata": {
    "colab": {
      "name": "Day 8 Assignment Q2.ipynb",
      "provenance": [],
      "collapsed_sections": [],
      "authorship_tag": "ABX9TyPzOJ30R313uNe0fRgb5rSz",
      "include_colab_link": true
    },
    "kernelspec": {
      "name": "python3",
      "display_name": "Python 3"
    }
  },
  "cells": [
    {
      "cell_type": "markdown",
      "metadata": {
        "id": "view-in-github",
        "colab_type": "text"
      },
      "source": [
        "<a href=\"https://colab.research.google.com/github/manikandann95/LetsUpgrade-Python-Essentials/blob/master/Day_8_Assignment_Q2.ipynb\" target=\"_parent\"><img src=\"https://colab.research.google.com/assets/colab-badge.svg\" alt=\"Open In Colab\"/></a>"
      ]
    },
    {
      "cell_type": "code",
      "metadata": {
        "id": "DDHXmdUpJ1Ns",
        "colab_type": "code",
        "colab": {
          "base_uri": "https://localhost:8080/",
          "height": 85
        },
        "outputId": "19586a17-2c4c-4826-a8f5-9a664730a9de"
      },
      "source": [
        "# Day 8 Assignment : Q2\n",
        "def writeFile():\n",
        "  lines=[]\n",
        "  lines=input(\"Write in File: \")\n",
        "  file = open(\"textfile.txt\",\"w\")\n",
        "  file.writelines(lines)\n",
        "  file.close()\n",
        "\n",
        "def appendFile():\n",
        "  line=[]\n",
        "  lines=input(\"Write in File: \")\n",
        "  file = open(\"textfile.txt\",\"a\")\n",
        "  file.append(line)\n",
        "  readFile()\n",
        "\n",
        "\n",
        "\n",
        "def readFile():\n",
        "  file = open(\"textfile.txt\",\"r\")\n",
        "  fileData = file.read()\n",
        "  print(fileData)\n",
        "  file.close()\n",
        "\n",
        "def operation(): \n",
        "    op = input(\"Want to Overwrite (W) or Append (A) or Read (R) ? : \")\n",
        "    if op.lower() == \"w\":\n",
        "      writeFile()\n",
        "    elif op.lower() == \"a\":  \n",
        "      appendFile()\n",
        "    elif op.lower() == \"r\":  \n",
        "      readFile()\n",
        "    else:\n",
        "      print(\"Invalid Response!\")\n",
        "\n",
        "writeFile()\n",
        "\n",
        "#try Writing in read only mode\n",
        "try:\n",
        "  file.write(\" All is Well \")\n",
        "except:\n",
        "  print(\"File in Read only mode\")   \n",
        "  operation()\n",
        "\n",
        "finally:  \n",
        "  file.close()"
      ],
      "execution_count": 29,
      "outputs": [
        {
          "output_type": "stream",
          "text": [
            "Write in File: fhhtyjj\n",
            "File in Read only mode\n",
            "Want to Overwrite (W) or Append (A) or Read (R) ? : s\n",
            "Invalid Response!\n"
          ],
          "name": "stdout"
        }
      ]
    }
  ]
}