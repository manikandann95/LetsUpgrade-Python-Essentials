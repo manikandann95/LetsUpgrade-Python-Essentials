{
  "nbformat": 4,
  "nbformat_minor": 0,
  "metadata": {
    "colab": {
      "name": "Day 6 Assignment Q1.ipynb",
      "provenance": [],
      "collapsed_sections": [],
      "authorship_tag": "ABX9TyP73cZh0nkj51bgz45i1+dx",
      "include_colab_link": true
    },
    "kernelspec": {
      "name": "python3",
      "display_name": "Python 3"
    }
  },
  "cells": [
    {
      "cell_type": "markdown",
      "metadata": {
        "id": "view-in-github",
        "colab_type": "text"
      },
      "source": [
        "<a href=\"https://colab.research.google.com/github/manikandann95/LetsUpgrade-Python-Essentials/blob/master/Day_6_Assignment_Q1.ipynb\" target=\"_parent\"><img src=\"https://colab.research.google.com/assets/colab-badge.svg\" alt=\"Open In Colab\"/></a>"
      ]
    },
    {
      "cell_type": "code",
      "metadata": {
        "id": "7CEUDNqUZddJ",
        "colab_type": "code",
        "colab": {
          "base_uri": "https://localhost:8080/",
          "height": 102
        },
        "outputId": "b91d868c-1be6-4afb-9e6b-eceb2f0488ee"
      },
      "source": [
        "# Bank Account\n",
        "class BankAccount: \n",
        " \n",
        "    def __init__(self): \n",
        "        self.ownerName=\"Manikandan\"\n",
        "        self.Balance=0\n",
        "        \n",
        "    def deposit(self):\n",
        "        Amt=float(input(\"Depositing Amount : \"))\n",
        "        self.Balance += Amt\n",
        "        print(\"Amount Deposited : \", Amt)\n",
        "        operation()\n",
        "        \n",
        "    def withdraw(self):\n",
        "        Amt = float(input(\"Amount to be Withdrawn : \"))\n",
        "        if Amt <= self.Balance:\n",
        "          self.Balance -= Amt\n",
        "          print(\"Withdrawn Amount :\", Amt)\n",
        "        else:\n",
        "          print(\"\\nInsufficient Fund. Available Balance:\", self.Balance) \n",
        "        operation()  \n",
        " \n",
        "print(\"BANK ACCOUNT DETAILS : \")\n",
        "acc = BankAccount()\n",
        "print(\"Account Holder Name : \", acc.ownerName)\n",
        "print(\"Initial Balance : \", acc.Balance)\n",
        "\n",
        "def operation():\n",
        "    op=input(\"Do you want to Deposit or Withdraw or Exit D/W/E ?\")\n",
        "    if op.lower() == \"d\":\n",
        "      acc.deposit()\n",
        "    elif op.lower() == \"w\":\n",
        "      acc.withdraw()\n",
        "    elif op.lower() == \"e\":  \n",
        "      exit\n",
        "    else:\n",
        "      print(\"Improper Response\")  \n",
        "operation()      \n",
        "print(\"Net Balance is: \", acc.Balance)\n"
      ],
      "execution_count": 14,
      "outputs": [
        {
          "output_type": "stream",
          "text": [
            "BANK ACCOUNT DETAILS : \n",
            "Account Holder Name :  Manikandan\n",
            "Initial Balance :  0\n",
            "Do you want to Deposit or Withdraw or Exit D/W/E ?E\n",
            "Net Balance is:  0\n"
          ],
          "name": "stdout"
        }
      ]
    }
  ]
}